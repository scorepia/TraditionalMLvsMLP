{
  "nbformat": 4,
  "nbformat_minor": 0,
  "metadata": {
    "colab": {
      "provenance": [],
      "collapsed_sections": []
    },
    "kernelspec": {
      "name": "python3",
      "display_name": "Python 3"
    },
    "language_info": {
      "name": "python"
    },
    "accelerator": "GPU",
    "gpuClass": "standard"
  },
  "cells": [
    {
      "cell_type": "markdown",
      "source": [
        "# Data Preparation"
      ],
      "metadata": {
        "id": "xqIJgwzlPvxH"
      }
    },
    {
      "cell_type": "code",
      "source": [
        "import numpy as np\n",
        "import pandas as pd"
      ],
      "metadata": {
        "id": "UVgSwfp8P0Jc"
      },
      "execution_count": 1,
      "outputs": []
    },
    {
      "cell_type": "code",
      "source": [
        "data = pd.read_csv('sample_data/data.csv').dropna()\n",
        "del data['educational-num']\n",
        "data.insert(9, 'capital', data['capital-gain'] - data['capital-loss'])\n",
        "del data['capital-gain'], data['capital-loss']"
      ],
      "metadata": {
        "id": "3T8O5TEoP0o1"
      },
      "execution_count": 2,
      "outputs": []
    },
    {
      "cell_type": "code",
      "source": [
        "data.info()"
      ],
      "metadata": {
        "colab": {
          "base_uri": "https://localhost:8080/"
        },
        "id": "cYII9WbLoqfN",
        "outputId": "87c4b3eb-3e08-4815-cc2e-5a2b19fea80b"
      },
      "execution_count": 3,
      "outputs": [
        {
          "output_type": "stream",
          "name": "stdout",
          "text": [
            "<class 'pandas.core.frame.DataFrame'>\n",
            "Int64Index: 40727 entries, 0 to 43956\n",
            "Data columns (total 13 columns):\n",
            " #   Column          Non-Null Count  Dtype \n",
            "---  ------          --------------  ----- \n",
            " 0   age             40727 non-null  int64 \n",
            " 1   workclass       40727 non-null  object\n",
            " 2   fnlwgt          40727 non-null  int64 \n",
            " 3   education       40727 non-null  object\n",
            " 4   marital-status  40727 non-null  object\n",
            " 5   occupation      40727 non-null  object\n",
            " 6   relationship    40727 non-null  object\n",
            " 7   race            40727 non-null  object\n",
            " 8   gender          40727 non-null  object\n",
            " 9   capital         40727 non-null  int64 \n",
            " 10  hours-per-week  40727 non-null  int64 \n",
            " 11  native-country  40727 non-null  object\n",
            " 12  income_>50K     40727 non-null  int64 \n",
            "dtypes: int64(5), object(8)\n",
            "memory usage: 4.4+ MB\n"
          ]
        }
      ]
    },
    {
      "cell_type": "code",
      "source": [
        "from sklearn.preprocessing import LabelEncoder\n",
        "\n",
        "ind_cat = []    # categorical index\n",
        "ind_cont = []   # continuous index\n",
        "\n",
        "for i, v in enumerate(data.columns[:-1]):\n",
        "  if data[v].dtype == 'object':\n",
        "    ind_cat.append(i)\n",
        "    le_str = 'le'+str(i)\n",
        "    globals()[le_str] = LabelEncoder().fit(data[v])\n",
        "    print(\"{} {}\".format(le_str, v))\n",
        "  else:\n",
        "    ind_cont.append(i)\n",
        "\n",
        "print()\n",
        "print(f\"ind_cont = {ind_cont}\")\n",
        "print(f\"ind_cat = {ind_cat}\")"
      ],
      "metadata": {
        "colab": {
          "base_uri": "https://localhost:8080/"
        },
        "id": "ZaToTEOBP7CL",
        "outputId": "111ca734-7670-4f8b-f0cd-8706ca61b3a9"
      },
      "execution_count": 4,
      "outputs": [
        {
          "output_type": "stream",
          "name": "stdout",
          "text": [
            "le1 workclass\n",
            "le3 education\n",
            "le4 marital-status\n",
            "le5 occupation\n",
            "le6 relationship\n",
            "le7 race\n",
            "le8 gender\n",
            "le11 native-country\n",
            "\n",
            "ind_cont = [0, 2, 9, 10]\n",
            "ind_cat = [1, 3, 4, 5, 6, 7, 8, 11]\n"
          ]
        }
      ]
    },
    {
      "cell_type": "markdown",
      "source": [
        "# Conversion to Array"
      ],
      "metadata": {
        "id": "U4OKrHAsP-FX"
      }
    },
    {
      "cell_type": "code",
      "source": [
        "from sklearn.model_selection import train_test_split\n",
        "train, test = train_test_split(data, test_size=0.2, random_state=42, shuffle=True)"
      ],
      "metadata": {
        "id": "6_M3fGqwP9fc"
      },
      "execution_count": 5,
      "outputs": []
    },
    {
      "cell_type": "code",
      "source": [
        "def convertx(df):\n",
        "  mat = np.zeros([len(df), len(df.columns)-1], dtype='int32')\n",
        "  for i in ind_cont:\n",
        "    mat[:,i] = df.iloc[:,i]\n",
        "  for i in ind_cat:\n",
        "    mat[:,i] = globals()['le'+str(i)].transform(df.iloc[:,i])\n",
        "  return mat\n",
        "\n",
        "def converty(df):\n",
        "  return df.iloc[:,-1].to_numpy(dtype='bool')"
      ],
      "metadata": {
        "id": "Mdj2yRZiQB5B"
      },
      "execution_count": 6,
      "outputs": []
    },
    {
      "cell_type": "code",
      "source": [
        "X_train, y_train = convertx(train), converty(train)\n",
        "X_test, y_test = convertx(test), converty(test)"
      ],
      "metadata": {
        "id": "ZtQ6_Cj2QDmE"
      },
      "execution_count": 7,
      "outputs": []
    },
    {
      "cell_type": "markdown",
      "source": [
        "# GPU Environment Preparation"
      ],
      "metadata": {
        "id": "Am8MiduBQF7w"
      }
    },
    {
      "cell_type": "code",
      "execution_count": 8,
      "metadata": {
        "colab": {
          "base_uri": "https://localhost:8080/"
        },
        "id": "dP0wi2yRP46L",
        "outputId": "8c91cddf-c8ee-43f8-8731-75069acc1b29"
      },
      "outputs": [
        {
          "output_type": "stream",
          "name": "stdout",
          "text": [
            "GPU 0: Tesla T4 (UUID: GPU-42eb22e8-4622-3ac5-9050-bf6111b696a6)\n"
          ]
        }
      ],
      "source": [
        "# List all NVIDIA GPUs as avaialble in this computer (or Colab's session)\n",
        "!nvidia-smi -L"
      ]
    },
    {
      "cell_type": "code",
      "source": [
        "import sys\n",
        "print(f\"Python {sys.version}\\n\")\n",
        "\n",
        "import numpy as np\n",
        "print(f\"NumPy {np.__version__}\\n\")\n",
        "\n",
        "import matplotlib.pyplot as plt\n",
        "%matplotlib inline\n",
        "\n",
        "import tensorflow as tf\n",
        "print(f\"TensorFlow {tf.__version__}\")\n",
        "print(f\"tf.keras.backend.image_data_format() = {tf.keras.backend.image_data_format()}\")\n",
        "\n",
        "# Count the number of GPUs as detected by tensorflow\n",
        "gpus = tf.config.list_physical_devices('GPU')\n",
        "print(f\"TensorFlow detected {len(gpus)} GPU(s):\")\n",
        "for i, gpu in enumerate(gpus):\n",
        "  print(f\".... GPU No. {i}: Name = {gpu.name}, Type = {gpu.device_type}\")"
      ],
      "metadata": {
        "colab": {
          "base_uri": "https://localhost:8080/"
        },
        "id": "lml-duVyQK78",
        "outputId": "58eb896a-4872-418a-8120-78638c5cb7ed"
      },
      "execution_count": 9,
      "outputs": [
        {
          "output_type": "stream",
          "name": "stdout",
          "text": [
            "Python 3.7.13 (default, Apr 24 2022, 01:04:09) \n",
            "[GCC 7.5.0]\n",
            "\n",
            "NumPy 1.21.6\n",
            "\n",
            "TensorFlow 2.8.2\n",
            "tf.keras.backend.image_data_format() = channels_last\n",
            "TensorFlow detected 1 GPU(s):\n",
            ".... GPU No. 0: Name = /physical_device:GPU:0, Type = GPU\n"
          ]
        }
      ]
    },
    {
      "cell_type": "code",
      "source": [
        "# Set fixed seeding values for reproducability during experiments\n",
        "# Skip this cell if random initialization (with varied results) is needed\n",
        "np.random.seed(1234)\n",
        "tf.random.set_seed(5678)"
      ],
      "metadata": {
        "id": "F8LiRMTQUVKY"
      },
      "execution_count": 10,
      "outputs": []
    },
    {
      "cell_type": "markdown",
      "source": [
        "# Dimensionality"
      ],
      "metadata": {
        "id": "QsNLz02cTzDS"
      }
    },
    {
      "cell_type": "code",
      "source": [
        "input_dim = np.uint8(X_train.shape[1])  # the number of features per one input\n",
        "print(f\"input_dim = {input_dim}\")\n",
        "output_dim = np.uint8(1)                # the number of output classes\n",
        "print(f\"output_dim = {output_dim}\")"
      ],
      "metadata": {
        "id": "WmSKh9VecnFS",
        "colab": {
          "base_uri": "https://localhost:8080/"
        },
        "outputId": "572e890c-8aca-45e2-c34a-f4863fb1bf0d"
      },
      "execution_count": 11,
      "outputs": [
        {
          "output_type": "stream",
          "name": "stdout",
          "text": [
            "input_dim = 12\n",
            "output_dim = 1\n"
          ]
        }
      ]
    },
    {
      "cell_type": "code",
      "source": [
        "# Training data\n",
        "n_train = np.uint8(X_train.shape[0])\n",
        "print(f\"X_train: shape = {X_train.shape}, dtype = {X_train.dtype}, min = {np.min(X_train)}, max = {np.max(X_train)}\")\n",
        "print(f\"y_train: shape = {y_train.shape}, dtype = {y_train.dtype}, min = {np.min(y_train)}, max = {np.max(y_train)}\")"
      ],
      "metadata": {
        "colab": {
          "base_uri": "https://localhost:8080/"
        },
        "id": "t9TVlIn-Txct",
        "outputId": "d42ed954-0ff0-4ebf-a073-795951a087b4"
      },
      "execution_count": 12,
      "outputs": [
        {
          "output_type": "stream",
          "name": "stdout",
          "text": [
            "X_train: shape = (32581, 12), dtype = int32, min = -4356, max = 1490400\n",
            "y_train: shape = (32581,), dtype = bool, min = False, max = True\n"
          ]
        }
      ]
    },
    {
      "cell_type": "code",
      "source": [
        "# Testing data\n",
        "n_test = np.uint8(X_test.shape[0])\n",
        "print(f\"X_test: shape = {X_test.shape}, dtype = {X_test.dtype}, min = {np.min(X_test)}, max = {np.max(X_test)}\")\n",
        "print(f\"y_test: shape = {y_test.shape}, dtype = {y_test.dtype}, min = {np.min(y_test)}, max = {np.max(y_test)}\")"
      ],
      "metadata": {
        "colab": {
          "base_uri": "https://localhost:8080/"
        },
        "id": "ysO6gQdYQUy7",
        "outputId": "d0b5a772-7148-464d-b7ed-b6f5dd39ecb6"
      },
      "execution_count": 13,
      "outputs": [
        {
          "output_type": "stream",
          "name": "stdout",
          "text": [
            "X_test: shape = (8146, 12), dtype = int32, min = -3770, max = 1038553\n",
            "y_test: shape = (8146,), dtype = bool, min = False, max = True\n"
          ]
        }
      ]
    },
    {
      "cell_type": "markdown",
      "source": [
        "# User-Defined MLP"
      ],
      "metadata": {
        "id": "bxZpE_g2bsUd"
      }
    },
    {
      "cell_type": "code",
      "source": [
        "import timeit\n",
        "\n",
        "def mlp(hsize, hdepth, dropout, lr, bs, ep, vsplit):\n",
        "  '''\n",
        "    INPUTS\n",
        "      hsize: the number of nodes in a hidden layer\n",
        "      hdepth: the number of all hidden layers\n",
        "      dropout: dropout rate\n",
        "      lr: learning rate\n",
        "      bs: batch size\n",
        "      ep: the number of epochs\n",
        "      vsplit: validation split rate\n",
        "\n",
        "    OUTPUTS\n",
        "      train_acc, val_acc, test_acc (accuracy: percentage)\n",
        "      train_loss, val_loss, test_loss (loss)\n",
        "      rtime (running time: seconds)\n",
        "  '''\n",
        "\n",
        "  # Start a timer\n",
        "  start = timeit.default_timer()\n",
        "\n",
        "  # Sequential network architecture\n",
        "  model = tf.keras.models.Sequential()\n",
        "  model.add(tf.keras.Input(shape=(input_dim,)))\n",
        "  for i in range(hdepth):\n",
        "    model.add(tf.keras.layers.Dense(hsize, activation='relu'))\n",
        "    model.add(tf.keras.layers.BatchNormalization(axis=-1))  \n",
        "  model.add(tf.keras.layers.Dense(output_dim, activation='sigmoid'))\n",
        "\n",
        "  # Model compilation\n",
        "  model.compile(optimizer=tf.keras.optimizers.Adam(learning_rate=lr), \n",
        "                loss=tf.keras.losses.BinaryCrossentropy(from_logits=False) ,\n",
        "                metrics=['acc'])\n",
        "  \n",
        "  # Model training\n",
        "  model_checkpoint_callback = tf.keras.callbacks.ModelCheckpoint(filepath=\"bestmodel.hdf5\",\n",
        "                                                                 save_weights_only=True,\n",
        "                                                                 monitor='val_acc',\n",
        "                                                                 mode='max',\n",
        "                                                                 save_best_only=True)\n",
        "  history = model.fit(X_train, y_train, \n",
        "                      batch_size=bs, epochs=ep, \n",
        "                      verbose=0,  # no print\n",
        "                      validation_split=vsplit, \n",
        "                      callbacks=[model_checkpoint_callback])  # keep saving model\n",
        "  \n",
        "  # End the timer\n",
        "  rtime = timeit.default_timer() - start  # in seconds\n",
        "\n",
        "  # Model evaluation\n",
        "  val_acc = max(history.history['val_acc'])\n",
        "  ind = history.history['val_acc'].index(val_acc)\n",
        "  val_loss = history.history['val_loss'][ind]\n",
        "  train_acc = history.history['acc'][ind]\n",
        "  train_loss = history.history['loss'][ind]\n",
        "  test_eval = model.evaluate(X_test, y_test,\n",
        "                             batch_size=bs,\n",
        "                             verbose=0)\n",
        "  test_acc = test_eval[1]\n",
        "  test_loss = test_eval[0]\n",
        "\n",
        "  # Outputs\n",
        "  return {'train_acc': np.float32(train_acc*100),\n",
        "          'val_acc': np.float32(val_acc*100),\n",
        "          'test_acc': np.float32(test_acc*100),\n",
        "          'train_loss': np.float32(train_loss),\n",
        "          'val_loss': np.float32(val_loss),\n",
        "          'test_loss': np.float32(test_loss),\n",
        "          'rtime': np.float32(rtime)}"
      ],
      "metadata": {
        "id": "ROz4mzHfh_Wj"
      },
      "execution_count": 14,
      "outputs": []
    },
    {
      "cell_type": "markdown",
      "source": [
        "# Experimentation"
      ],
      "metadata": {
        "id": "GbK2Zx7Ons8P"
      }
    },
    {
      "cell_type": "code",
      "source": [
        "r_hsize = range(7, 9)\n",
        "print(f\"hsize = {list(r_hsize)}\")\n",
        "r_hdepth = range(3, 5)\n",
        "print(f\"hdepth = {list(r_hdepth)}\")\n",
        "ls_dropout = np.array([0.1, 0.3], dtype='float32')\n",
        "print(f\"dropout = {ls_dropout}\")\n",
        "lr = np.float32(0.001)\n",
        "bs, ep, vsplit = np.uint16(128), np.uint8(20), np.float32(0.2)"
      ],
      "metadata": {
        "colab": {
          "base_uri": "https://localhost:8080/"
        },
        "id": "72hcIzLzpT1a",
        "outputId": "3e9cc5d1-370b-4bf6-a4c8-62bc935eee86"
      },
      "execution_count": 15,
      "outputs": [
        {
          "output_type": "stream",
          "name": "stdout",
          "text": [
            "hsize = [7, 8]\n",
            "hdepth = [3, 4]\n",
            "dropout = [0.1 0.3]\n"
          ]
        }
      ]
    },
    {
      "cell_type": "code",
      "source": [
        "df_eval = pd.DataFrame(columns = ['hsize', 'hdepth', 'dropout',\n",
        "                                  'lr', 'bs', 'ep', 'vsplit',\n",
        "                                  'train_acc', 'val_acc', 'test_acc',\n",
        "                                  'train_loss', 'val_loss', 'test_loss',\n",
        "                                  'rtime'])\n",
        "\n",
        "rows = []\n",
        "\n",
        "for hsize in r_hsize:\n",
        "  for hdepth in r_hdepth:\n",
        "    for dropout in ls_dropout:\n",
        "      dc = {'hsize': np.uint8(hsize), 'hdepth': np.uint8(hdepth), \n",
        "            'dropout': np.float32(dropout), 'lr': np.float32(lr), \n",
        "            'bs': np.uint16(bs), 'ep': np.uint8(ep), \n",
        "            'vsplit': np.float32(vsplit)}\n",
        "      dc.update(mlp(hsize, hdepth, dropout, lr, bs, ep, vsplit))\n",
        "      rows.append(dc)\n",
        "\n",
        "df_eval = pd.DataFrame(rows)"
      ],
      "metadata": {
        "id": "iS3JM9n5qXCe"
      },
      "execution_count": 16,
      "outputs": []
    },
    {
      "cell_type": "code",
      "source": [
        "df_eval.head()"
      ],
      "metadata": {
        "colab": {
          "base_uri": "https://localhost:8080/",
          "height": 206
        },
        "id": "yL12CkRjrLcN",
        "outputId": "fc761ef0-d8ea-4100-d879-6e309e8d6618"
      },
      "execution_count": 17,
      "outputs": [
        {
          "output_type": "execute_result",
          "data": {
            "text/plain": [
              "   hsize  hdepth  dropout     lr   bs  ep  vsplit  train_acc    val_acc  \\\n",
              "0      7       3      0.1  0.001  128  20     0.2  79.596375  80.128899   \n",
              "1      7       3      0.3  0.001  128  20     0.2  79.385361  79.423050   \n",
              "2      7       4      0.1  0.001  128  20     0.2  79.316299  79.868034   \n",
              "3      7       4      0.3  0.001  128  20     0.2  79.350830  79.714592   \n",
              "4      8       3      0.1  0.001  128  20     0.2  79.281769  79.330978   \n",
              "\n",
              "    test_acc  train_loss  val_loss  test_loss      rtime  \n",
              "0  28.308374    0.491822  0.497203   1.724796  46.741764  \n",
              "1  78.750305    0.445546  0.571725   0.638634  21.758690  \n",
              "2  55.462803    0.495542  0.498364   0.819377  21.697035  \n",
              "3  79.081757    0.497686  0.497554   0.500895  42.191311  \n",
              "4  30.309355    0.450523  0.476836   1.537304  21.491909  "
            ],
            "text/html": [
              "\n",
              "  <div id=\"df-d3104006-4284-44ac-a256-2b3fcfa4f9d3\">\n",
              "    <div class=\"colab-df-container\">\n",
              "      <div>\n",
              "<style scoped>\n",
              "    .dataframe tbody tr th:only-of-type {\n",
              "        vertical-align: middle;\n",
              "    }\n",
              "\n",
              "    .dataframe tbody tr th {\n",
              "        vertical-align: top;\n",
              "    }\n",
              "\n",
              "    .dataframe thead th {\n",
              "        text-align: right;\n",
              "    }\n",
              "</style>\n",
              "<table border=\"1\" class=\"dataframe\">\n",
              "  <thead>\n",
              "    <tr style=\"text-align: right;\">\n",
              "      <th></th>\n",
              "      <th>hsize</th>\n",
              "      <th>hdepth</th>\n",
              "      <th>dropout</th>\n",
              "      <th>lr</th>\n",
              "      <th>bs</th>\n",
              "      <th>ep</th>\n",
              "      <th>vsplit</th>\n",
              "      <th>train_acc</th>\n",
              "      <th>val_acc</th>\n",
              "      <th>test_acc</th>\n",
              "      <th>train_loss</th>\n",
              "      <th>val_loss</th>\n",
              "      <th>test_loss</th>\n",
              "      <th>rtime</th>\n",
              "    </tr>\n",
              "  </thead>\n",
              "  <tbody>\n",
              "    <tr>\n",
              "      <th>0</th>\n",
              "      <td>7</td>\n",
              "      <td>3</td>\n",
              "      <td>0.1</td>\n",
              "      <td>0.001</td>\n",
              "      <td>128</td>\n",
              "      <td>20</td>\n",
              "      <td>0.2</td>\n",
              "      <td>79.596375</td>\n",
              "      <td>80.128899</td>\n",
              "      <td>28.308374</td>\n",
              "      <td>0.491822</td>\n",
              "      <td>0.497203</td>\n",
              "      <td>1.724796</td>\n",
              "      <td>46.741764</td>\n",
              "    </tr>\n",
              "    <tr>\n",
              "      <th>1</th>\n",
              "      <td>7</td>\n",
              "      <td>3</td>\n",
              "      <td>0.3</td>\n",
              "      <td>0.001</td>\n",
              "      <td>128</td>\n",
              "      <td>20</td>\n",
              "      <td>0.2</td>\n",
              "      <td>79.385361</td>\n",
              "      <td>79.423050</td>\n",
              "      <td>78.750305</td>\n",
              "      <td>0.445546</td>\n",
              "      <td>0.571725</td>\n",
              "      <td>0.638634</td>\n",
              "      <td>21.758690</td>\n",
              "    </tr>\n",
              "    <tr>\n",
              "      <th>2</th>\n",
              "      <td>7</td>\n",
              "      <td>4</td>\n",
              "      <td>0.1</td>\n",
              "      <td>0.001</td>\n",
              "      <td>128</td>\n",
              "      <td>20</td>\n",
              "      <td>0.2</td>\n",
              "      <td>79.316299</td>\n",
              "      <td>79.868034</td>\n",
              "      <td>55.462803</td>\n",
              "      <td>0.495542</td>\n",
              "      <td>0.498364</td>\n",
              "      <td>0.819377</td>\n",
              "      <td>21.697035</td>\n",
              "    </tr>\n",
              "    <tr>\n",
              "      <th>3</th>\n",
              "      <td>7</td>\n",
              "      <td>4</td>\n",
              "      <td>0.3</td>\n",
              "      <td>0.001</td>\n",
              "      <td>128</td>\n",
              "      <td>20</td>\n",
              "      <td>0.2</td>\n",
              "      <td>79.350830</td>\n",
              "      <td>79.714592</td>\n",
              "      <td>79.081757</td>\n",
              "      <td>0.497686</td>\n",
              "      <td>0.497554</td>\n",
              "      <td>0.500895</td>\n",
              "      <td>42.191311</td>\n",
              "    </tr>\n",
              "    <tr>\n",
              "      <th>4</th>\n",
              "      <td>8</td>\n",
              "      <td>3</td>\n",
              "      <td>0.1</td>\n",
              "      <td>0.001</td>\n",
              "      <td>128</td>\n",
              "      <td>20</td>\n",
              "      <td>0.2</td>\n",
              "      <td>79.281769</td>\n",
              "      <td>79.330978</td>\n",
              "      <td>30.309355</td>\n",
              "      <td>0.450523</td>\n",
              "      <td>0.476836</td>\n",
              "      <td>1.537304</td>\n",
              "      <td>21.491909</td>\n",
              "    </tr>\n",
              "  </tbody>\n",
              "</table>\n",
              "</div>\n",
              "      <button class=\"colab-df-convert\" onclick=\"convertToInteractive('df-d3104006-4284-44ac-a256-2b3fcfa4f9d3')\"\n",
              "              title=\"Convert this dataframe to an interactive table.\"\n",
              "              style=\"display:none;\">\n",
              "        \n",
              "  <svg xmlns=\"http://www.w3.org/2000/svg\" height=\"24px\"viewBox=\"0 0 24 24\"\n",
              "       width=\"24px\">\n",
              "    <path d=\"M0 0h24v24H0V0z\" fill=\"none\"/>\n",
              "    <path d=\"M18.56 5.44l.94 2.06.94-2.06 2.06-.94-2.06-.94-.94-2.06-.94 2.06-2.06.94zm-11 1L8.5 8.5l.94-2.06 2.06-.94-2.06-.94L8.5 2.5l-.94 2.06-2.06.94zm10 10l.94 2.06.94-2.06 2.06-.94-2.06-.94-.94-2.06-.94 2.06-2.06.94z\"/><path d=\"M17.41 7.96l-1.37-1.37c-.4-.4-.92-.59-1.43-.59-.52 0-1.04.2-1.43.59L10.3 9.45l-7.72 7.72c-.78.78-.78 2.05 0 2.83L4 21.41c.39.39.9.59 1.41.59.51 0 1.02-.2 1.41-.59l7.78-7.78 2.81-2.81c.8-.78.8-2.07 0-2.86zM5.41 20L4 18.59l7.72-7.72 1.47 1.35L5.41 20z\"/>\n",
              "  </svg>\n",
              "      </button>\n",
              "      \n",
              "  <style>\n",
              "    .colab-df-container {\n",
              "      display:flex;\n",
              "      flex-wrap:wrap;\n",
              "      gap: 12px;\n",
              "    }\n",
              "\n",
              "    .colab-df-convert {\n",
              "      background-color: #E8F0FE;\n",
              "      border: none;\n",
              "      border-radius: 50%;\n",
              "      cursor: pointer;\n",
              "      display: none;\n",
              "      fill: #1967D2;\n",
              "      height: 32px;\n",
              "      padding: 0 0 0 0;\n",
              "      width: 32px;\n",
              "    }\n",
              "\n",
              "    .colab-df-convert:hover {\n",
              "      background-color: #E2EBFA;\n",
              "      box-shadow: 0px 1px 2px rgba(60, 64, 67, 0.3), 0px 1px 3px 1px rgba(60, 64, 67, 0.15);\n",
              "      fill: #174EA6;\n",
              "    }\n",
              "\n",
              "    [theme=dark] .colab-df-convert {\n",
              "      background-color: #3B4455;\n",
              "      fill: #D2E3FC;\n",
              "    }\n",
              "\n",
              "    [theme=dark] .colab-df-convert:hover {\n",
              "      background-color: #434B5C;\n",
              "      box-shadow: 0px 1px 3px 1px rgba(0, 0, 0, 0.15);\n",
              "      filter: drop-shadow(0px 1px 2px rgba(0, 0, 0, 0.3));\n",
              "      fill: #FFFFFF;\n",
              "    }\n",
              "  </style>\n",
              "\n",
              "      <script>\n",
              "        const buttonEl =\n",
              "          document.querySelector('#df-d3104006-4284-44ac-a256-2b3fcfa4f9d3 button.colab-df-convert');\n",
              "        buttonEl.style.display =\n",
              "          google.colab.kernel.accessAllowed ? 'block' : 'none';\n",
              "\n",
              "        async function convertToInteractive(key) {\n",
              "          const element = document.querySelector('#df-d3104006-4284-44ac-a256-2b3fcfa4f9d3');\n",
              "          const dataTable =\n",
              "            await google.colab.kernel.invokeFunction('convertToInteractive',\n",
              "                                                     [key], {});\n",
              "          if (!dataTable) return;\n",
              "\n",
              "          const docLinkHtml = 'Like what you see? Visit the ' +\n",
              "            '<a target=\"_blank\" href=https://colab.research.google.com/notebooks/data_table.ipynb>data table notebook</a>'\n",
              "            + ' to learn more about interactive tables.';\n",
              "          element.innerHTML = '';\n",
              "          dataTable['output_type'] = 'display_data';\n",
              "          await google.colab.output.renderOutput(dataTable, element);\n",
              "          const docLink = document.createElement('div');\n",
              "          docLink.innerHTML = docLinkHtml;\n",
              "          element.appendChild(docLink);\n",
              "        }\n",
              "      </script>\n",
              "    </div>\n",
              "  </div>\n",
              "  "
            ]
          },
          "metadata": {},
          "execution_count": 17
        }
      ]
    },
    {
      "cell_type": "code",
      "source": [
        "df_eval.info()"
      ],
      "metadata": {
        "colab": {
          "base_uri": "https://localhost:8080/"
        },
        "id": "7OETXrDe-x2P",
        "outputId": "90f0b5a4-fcec-42da-a014-4bcfba7fb3de"
      },
      "execution_count": 18,
      "outputs": [
        {
          "output_type": "stream",
          "name": "stdout",
          "text": [
            "<class 'pandas.core.frame.DataFrame'>\n",
            "RangeIndex: 8 entries, 0 to 7\n",
            "Data columns (total 14 columns):\n",
            " #   Column      Non-Null Count  Dtype  \n",
            "---  ------      --------------  -----  \n",
            " 0   hsize       8 non-null      int8   \n",
            " 1   hdepth      8 non-null      int8   \n",
            " 2   dropout     8 non-null      float32\n",
            " 3   lr          8 non-null      float32\n",
            " 4   bs          8 non-null      int16  \n",
            " 5   ep          8 non-null      int8   \n",
            " 6   vsplit      8 non-null      float32\n",
            " 7   train_acc   8 non-null      float32\n",
            " 8   val_acc     8 non-null      float32\n",
            " 9   test_acc    8 non-null      float32\n",
            " 10  train_loss  8 non-null      float32\n",
            " 11  val_loss    8 non-null      float32\n",
            " 12  test_loss   8 non-null      float32\n",
            " 13  rtime       8 non-null      float32\n",
            "dtypes: float32(10), int16(1), int8(3)\n",
            "memory usage: 488.0 bytes\n"
          ]
        }
      ]
    },
    {
      "cell_type": "code",
      "source": [
        "df_eval.to_csv('sample_data/eval_mlp.csv', index=False)"
      ],
      "metadata": {
        "id": "La8DQKTDrNq5"
      },
      "execution_count": 19,
      "outputs": []
    },
    {
      "cell_type": "code",
      "source": [
        "df_eval.iloc[df_eval['test_acc'].argmax(),:]  # maximum accuracy"
      ],
      "metadata": {
        "colab": {
          "base_uri": "https://localhost:8080/"
        },
        "id": "PmbBtHjktXDI",
        "outputId": "3d5a6304-c07a-4dd9-85b8-567861188f85"
      },
      "execution_count": 20,
      "outputs": [
        {
          "output_type": "execute_result",
          "data": {
            "text/plain": [
              "hsize           7.000000\n",
              "hdepth          4.000000\n",
              "dropout         0.300000\n",
              "lr              0.001000\n",
              "bs            128.000000\n",
              "ep             20.000000\n",
              "vsplit          0.200000\n",
              "train_acc      79.350830\n",
              "val_acc        79.714592\n",
              "test_acc       79.081757\n",
              "train_loss      0.497686\n",
              "val_loss        0.497554\n",
              "test_loss       0.500895\n",
              "rtime          42.191311\n",
              "Name: 3, dtype: float32"
            ]
          },
          "metadata": {},
          "execution_count": 20
        }
      ]
    },
    {
      "cell_type": "code",
      "source": [
        "df_eval.iloc[df_eval['rtime'].argmin(),:]  # minimum running time"
      ],
      "metadata": {
        "colab": {
          "base_uri": "https://localhost:8080/"
        },
        "id": "3t_hQ1G-ulbO",
        "outputId": "4840ae3d-3344-4b74-92d5-d104df517bb0"
      },
      "execution_count": 21,
      "outputs": [
        {
          "output_type": "execute_result",
          "data": {
            "text/plain": [
              "hsize           8.000000\n",
              "hdepth          3.000000\n",
              "dropout         0.100000\n",
              "lr              0.001000\n",
              "bs            128.000000\n",
              "ep             20.000000\n",
              "vsplit          0.200000\n",
              "train_acc      79.281769\n",
              "val_acc        79.330978\n",
              "test_acc       30.309355\n",
              "train_loss      0.450523\n",
              "val_loss        0.476836\n",
              "test_loss       1.537304\n",
              "rtime          21.491909\n",
              "Name: 4, dtype: float32"
            ]
          },
          "metadata": {},
          "execution_count": 21
        }
      ]
    }
  ]
}