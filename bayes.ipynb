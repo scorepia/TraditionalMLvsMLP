{
  "nbformat": 4,
  "nbformat_minor": 0,
  "metadata": {
    "colab": {
      "provenance": [],
      "collapsed_sections": []
    },
    "kernelspec": {
      "name": "python3",
      "display_name": "Python 3"
    },
    "language_info": {
      "name": "python"
    },
    "gpuClass": "standard"
  },
  "cells": [
    {
      "cell_type": "markdown",
      "source": [
        "# Data Preparation"
      ],
      "metadata": {
        "id": "WX2cFz_iyE5I"
      }
    },
    {
      "cell_type": "code",
      "source": [
        "import numpy as np\n",
        "import pandas as pd"
      ],
      "metadata": {
        "id": "yojEj1hfLQDx"
      },
      "execution_count": 1,
      "outputs": []
    },
    {
      "cell_type": "code",
      "source": [
        "data = pd.read_csv('sample_data/data.csv').dropna()\n",
        "del data['educational-num']\n",
        "data.insert(9, 'capital', data['capital-gain'] - data['capital-loss'])\n",
        "del data['capital-gain'], data['capital-loss']"
      ],
      "metadata": {
        "id": "ivFbhfU8QGen"
      },
      "execution_count": 2,
      "outputs": []
    },
    {
      "cell_type": "code",
      "source": [
        "data.head()"
      ],
      "metadata": {
        "colab": {
          "base_uri": "https://localhost:8080/",
          "height": 337
        },
        "id": "DRVVNU0M06Db",
        "outputId": "c0773b31-fc7e-4d69-ed51-4dfef62abe64"
      },
      "execution_count": 3,
      "outputs": [
        {
          "output_type": "execute_result",
          "data": {
            "text/plain": [
              "   age  workclass  fnlwgt     education      marital-status        occupation  \\\n",
              "0   67    Private  366425     Doctorate            Divorced   Exec-managerial   \n",
              "1   17    Private  244602          12th       Never-married     Other-service   \n",
              "2   31    Private  174201     Bachelors  Married-civ-spouse   Exec-managerial   \n",
              "3   58  State-gov  110199       7th-8th  Married-civ-spouse  Transport-moving   \n",
              "4   25  State-gov  149248  Some-college       Never-married     Other-service   \n",
              "\n",
              "    relationship   race gender  capital  hours-per-week native-country  \\\n",
              "0  Not-in-family  White   Male    99999              60  United-States   \n",
              "1      Own-child  White   Male        0              15  United-States   \n",
              "2        Husband  White   Male        0              40  United-States   \n",
              "3        Husband  White   Male        0              40  United-States   \n",
              "4  Not-in-family  Black   Male        0              40  United-States   \n",
              "\n",
              "   income_>50K  \n",
              "0            1  \n",
              "1            0  \n",
              "2            1  \n",
              "3            0  \n",
              "4            0  "
            ],
            "text/html": [
              "\n",
              "  <div id=\"df-83b99cf1-6f7b-45b0-9c57-6b896117cfb2\">\n",
              "    <div class=\"colab-df-container\">\n",
              "      <div>\n",
              "<style scoped>\n",
              "    .dataframe tbody tr th:only-of-type {\n",
              "        vertical-align: middle;\n",
              "    }\n",
              "\n",
              "    .dataframe tbody tr th {\n",
              "        vertical-align: top;\n",
              "    }\n",
              "\n",
              "    .dataframe thead th {\n",
              "        text-align: right;\n",
              "    }\n",
              "</style>\n",
              "<table border=\"1\" class=\"dataframe\">\n",
              "  <thead>\n",
              "    <tr style=\"text-align: right;\">\n",
              "      <th></th>\n",
              "      <th>age</th>\n",
              "      <th>workclass</th>\n",
              "      <th>fnlwgt</th>\n",
              "      <th>education</th>\n",
              "      <th>marital-status</th>\n",
              "      <th>occupation</th>\n",
              "      <th>relationship</th>\n",
              "      <th>race</th>\n",
              "      <th>gender</th>\n",
              "      <th>capital</th>\n",
              "      <th>hours-per-week</th>\n",
              "      <th>native-country</th>\n",
              "      <th>income_&gt;50K</th>\n",
              "    </tr>\n",
              "  </thead>\n",
              "  <tbody>\n",
              "    <tr>\n",
              "      <th>0</th>\n",
              "      <td>67</td>\n",
              "      <td>Private</td>\n",
              "      <td>366425</td>\n",
              "      <td>Doctorate</td>\n",
              "      <td>Divorced</td>\n",
              "      <td>Exec-managerial</td>\n",
              "      <td>Not-in-family</td>\n",
              "      <td>White</td>\n",
              "      <td>Male</td>\n",
              "      <td>99999</td>\n",
              "      <td>60</td>\n",
              "      <td>United-States</td>\n",
              "      <td>1</td>\n",
              "    </tr>\n",
              "    <tr>\n",
              "      <th>1</th>\n",
              "      <td>17</td>\n",
              "      <td>Private</td>\n",
              "      <td>244602</td>\n",
              "      <td>12th</td>\n",
              "      <td>Never-married</td>\n",
              "      <td>Other-service</td>\n",
              "      <td>Own-child</td>\n",
              "      <td>White</td>\n",
              "      <td>Male</td>\n",
              "      <td>0</td>\n",
              "      <td>15</td>\n",
              "      <td>United-States</td>\n",
              "      <td>0</td>\n",
              "    </tr>\n",
              "    <tr>\n",
              "      <th>2</th>\n",
              "      <td>31</td>\n",
              "      <td>Private</td>\n",
              "      <td>174201</td>\n",
              "      <td>Bachelors</td>\n",
              "      <td>Married-civ-spouse</td>\n",
              "      <td>Exec-managerial</td>\n",
              "      <td>Husband</td>\n",
              "      <td>White</td>\n",
              "      <td>Male</td>\n",
              "      <td>0</td>\n",
              "      <td>40</td>\n",
              "      <td>United-States</td>\n",
              "      <td>1</td>\n",
              "    </tr>\n",
              "    <tr>\n",
              "      <th>3</th>\n",
              "      <td>58</td>\n",
              "      <td>State-gov</td>\n",
              "      <td>110199</td>\n",
              "      <td>7th-8th</td>\n",
              "      <td>Married-civ-spouse</td>\n",
              "      <td>Transport-moving</td>\n",
              "      <td>Husband</td>\n",
              "      <td>White</td>\n",
              "      <td>Male</td>\n",
              "      <td>0</td>\n",
              "      <td>40</td>\n",
              "      <td>United-States</td>\n",
              "      <td>0</td>\n",
              "    </tr>\n",
              "    <tr>\n",
              "      <th>4</th>\n",
              "      <td>25</td>\n",
              "      <td>State-gov</td>\n",
              "      <td>149248</td>\n",
              "      <td>Some-college</td>\n",
              "      <td>Never-married</td>\n",
              "      <td>Other-service</td>\n",
              "      <td>Not-in-family</td>\n",
              "      <td>Black</td>\n",
              "      <td>Male</td>\n",
              "      <td>0</td>\n",
              "      <td>40</td>\n",
              "      <td>United-States</td>\n",
              "      <td>0</td>\n",
              "    </tr>\n",
              "  </tbody>\n",
              "</table>\n",
              "</div>\n",
              "      <button class=\"colab-df-convert\" onclick=\"convertToInteractive('df-83b99cf1-6f7b-45b0-9c57-6b896117cfb2')\"\n",
              "              title=\"Convert this dataframe to an interactive table.\"\n",
              "              style=\"display:none;\">\n",
              "        \n",
              "  <svg xmlns=\"http://www.w3.org/2000/svg\" height=\"24px\"viewBox=\"0 0 24 24\"\n",
              "       width=\"24px\">\n",
              "    <path d=\"M0 0h24v24H0V0z\" fill=\"none\"/>\n",
              "    <path d=\"M18.56 5.44l.94 2.06.94-2.06 2.06-.94-2.06-.94-.94-2.06-.94 2.06-2.06.94zm-11 1L8.5 8.5l.94-2.06 2.06-.94-2.06-.94L8.5 2.5l-.94 2.06-2.06.94zm10 10l.94 2.06.94-2.06 2.06-.94-2.06-.94-.94-2.06-.94 2.06-2.06.94z\"/><path d=\"M17.41 7.96l-1.37-1.37c-.4-.4-.92-.59-1.43-.59-.52 0-1.04.2-1.43.59L10.3 9.45l-7.72 7.72c-.78.78-.78 2.05 0 2.83L4 21.41c.39.39.9.59 1.41.59.51 0 1.02-.2 1.41-.59l7.78-7.78 2.81-2.81c.8-.78.8-2.07 0-2.86zM5.41 20L4 18.59l7.72-7.72 1.47 1.35L5.41 20z\"/>\n",
              "  </svg>\n",
              "      </button>\n",
              "      \n",
              "  <style>\n",
              "    .colab-df-container {\n",
              "      display:flex;\n",
              "      flex-wrap:wrap;\n",
              "      gap: 12px;\n",
              "    }\n",
              "\n",
              "    .colab-df-convert {\n",
              "      background-color: #E8F0FE;\n",
              "      border: none;\n",
              "      border-radius: 50%;\n",
              "      cursor: pointer;\n",
              "      display: none;\n",
              "      fill: #1967D2;\n",
              "      height: 32px;\n",
              "      padding: 0 0 0 0;\n",
              "      width: 32px;\n",
              "    }\n",
              "\n",
              "    .colab-df-convert:hover {\n",
              "      background-color: #E2EBFA;\n",
              "      box-shadow: 0px 1px 2px rgba(60, 64, 67, 0.3), 0px 1px 3px 1px rgba(60, 64, 67, 0.15);\n",
              "      fill: #174EA6;\n",
              "    }\n",
              "\n",
              "    [theme=dark] .colab-df-convert {\n",
              "      background-color: #3B4455;\n",
              "      fill: #D2E3FC;\n",
              "    }\n",
              "\n",
              "    [theme=dark] .colab-df-convert:hover {\n",
              "      background-color: #434B5C;\n",
              "      box-shadow: 0px 1px 3px 1px rgba(0, 0, 0, 0.15);\n",
              "      filter: drop-shadow(0px 1px 2px rgba(0, 0, 0, 0.3));\n",
              "      fill: #FFFFFF;\n",
              "    }\n",
              "  </style>\n",
              "\n",
              "      <script>\n",
              "        const buttonEl =\n",
              "          document.querySelector('#df-83b99cf1-6f7b-45b0-9c57-6b896117cfb2 button.colab-df-convert');\n",
              "        buttonEl.style.display =\n",
              "          google.colab.kernel.accessAllowed ? 'block' : 'none';\n",
              "\n",
              "        async function convertToInteractive(key) {\n",
              "          const element = document.querySelector('#df-83b99cf1-6f7b-45b0-9c57-6b896117cfb2');\n",
              "          const dataTable =\n",
              "            await google.colab.kernel.invokeFunction('convertToInteractive',\n",
              "                                                     [key], {});\n",
              "          if (!dataTable) return;\n",
              "\n",
              "          const docLinkHtml = 'Like what you see? Visit the ' +\n",
              "            '<a target=\"_blank\" href=https://colab.research.google.com/notebooks/data_table.ipynb>data table notebook</a>'\n",
              "            + ' to learn more about interactive tables.';\n",
              "          element.innerHTML = '';\n",
              "          dataTable['output_type'] = 'display_data';\n",
              "          await google.colab.output.renderOutput(dataTable, element);\n",
              "          const docLink = document.createElement('div');\n",
              "          docLink.innerHTML = docLinkHtml;\n",
              "          element.appendChild(docLink);\n",
              "        }\n",
              "      </script>\n",
              "    </div>\n",
              "  </div>\n",
              "  "
            ]
          },
          "metadata": {},
          "execution_count": 3
        }
      ]
    },
    {
      "cell_type": "code",
      "source": [
        "data.info()"
      ],
      "metadata": {
        "colab": {
          "base_uri": "https://localhost:8080/"
        },
        "id": "sy6EIHDF681E",
        "outputId": "fd5a9d4d-f302-4047-e1ad-6174cb788dee"
      },
      "execution_count": 4,
      "outputs": [
        {
          "output_type": "stream",
          "name": "stdout",
          "text": [
            "<class 'pandas.core.frame.DataFrame'>\n",
            "Int64Index: 40727 entries, 0 to 43956\n",
            "Data columns (total 13 columns):\n",
            " #   Column          Non-Null Count  Dtype \n",
            "---  ------          --------------  ----- \n",
            " 0   age             40727 non-null  int64 \n",
            " 1   workclass       40727 non-null  object\n",
            " 2   fnlwgt          40727 non-null  int64 \n",
            " 3   education       40727 non-null  object\n",
            " 4   marital-status  40727 non-null  object\n",
            " 5   occupation      40727 non-null  object\n",
            " 6   relationship    40727 non-null  object\n",
            " 7   race            40727 non-null  object\n",
            " 8   gender          40727 non-null  object\n",
            " 9   capital         40727 non-null  int64 \n",
            " 10  hours-per-week  40727 non-null  int64 \n",
            " 11  native-country  40727 non-null  object\n",
            " 12  income_>50K     40727 non-null  int64 \n",
            "dtypes: int64(5), object(8)\n",
            "memory usage: 4.4+ MB\n"
          ]
        }
      ]
    },
    {
      "cell_type": "code",
      "source": [
        "data.nunique()"
      ],
      "metadata": {
        "colab": {
          "base_uri": "https://localhost:8080/"
        },
        "id": "Ts5ZBQiBJYmO",
        "outputId": "0fce584c-081b-478f-8544-b4a9d2b943b7"
      },
      "execution_count": 5,
      "outputs": [
        {
          "output_type": "execute_result",
          "data": {
            "text/plain": [
              "age                  74\n",
              "workclass             7\n",
              "fnlwgt            24985\n",
              "education            16\n",
              "marital-status        7\n",
              "occupation           14\n",
              "relationship          6\n",
              "race                  5\n",
              "gender                2\n",
              "capital             214\n",
              "hours-per-week       94\n",
              "native-country       41\n",
              "income_>50K           2\n",
              "dtype: int64"
            ]
          },
          "metadata": {},
          "execution_count": 5
        }
      ]
    },
    {
      "cell_type": "code",
      "source": [
        "from sklearn.preprocessing import LabelEncoder\n",
        "\n",
        "ind_cat = []    # categorical index\n",
        "ind_cont = []   # continuous index\n",
        "\n",
        "for i, v in enumerate(data.columns[:-1]):\n",
        "  if data[v].dtype == 'object':\n",
        "    ind_cat.append(i)\n",
        "    le_str = 'le'+str(i)\n",
        "    globals()[le_str] = LabelEncoder().fit(data[v])\n",
        "    print(\"{} {}\".format(le_str, v))\n",
        "  else:\n",
        "    ind_cont.append(i)\n",
        "\n",
        "print()\n",
        "print(\"ind_cont = {}\".format(ind_cont))\n",
        "print(\"ind_cat = {}\".format(ind_cat))"
      ],
      "metadata": {
        "id": "TNi6qKM80VQ-",
        "colab": {
          "base_uri": "https://localhost:8080/"
        },
        "outputId": "1f70ab4e-b5a8-41ef-f6ec-078e82aee5d4"
      },
      "execution_count": 6,
      "outputs": [
        {
          "output_type": "stream",
          "name": "stdout",
          "text": [
            "le1 workclass\n",
            "le3 education\n",
            "le4 marital-status\n",
            "le5 occupation\n",
            "le6 relationship\n",
            "le7 race\n",
            "le8 gender\n",
            "le11 native-country\n",
            "\n",
            "ind_cont = [0, 2, 9, 10]\n",
            "ind_cat = [1, 3, 4, 5, 6, 7, 8, 11]\n"
          ]
        }
      ]
    },
    {
      "cell_type": "markdown",
      "source": [
        "# Conversion to Array"
      ],
      "metadata": {
        "id": "UXQ7y62tyh2S"
      }
    },
    {
      "cell_type": "code",
      "source": [
        "from sklearn.model_selection import train_test_split\n",
        "train, test = train_test_split(data, test_size=0.2, random_state=42, shuffle=True)"
      ],
      "metadata": {
        "id": "0U02pW469iIS"
      },
      "execution_count": 7,
      "outputs": []
    },
    {
      "cell_type": "code",
      "source": [
        "def convertx(df):\n",
        "  mat = np.zeros([len(df), len(df.columns)-1], dtype='int32')\n",
        "  for i in ind_cont:\n",
        "    mat[:,i] = df.iloc[:,i]\n",
        "  for i in ind_cat:\n",
        "    mat[:,i] = globals()['le'+str(i)].transform(df.iloc[:,i])\n",
        "  return mat\n",
        "\n",
        "def converty(df):\n",
        "  return df.iloc[:,-1].to_numpy(dtype='bool')"
      ],
      "metadata": {
        "id": "hvG28AIEWhvm"
      },
      "execution_count": 8,
      "outputs": []
    },
    {
      "cell_type": "code",
      "source": [
        "X_train, y_train = convertx(train), converty(train)\n",
        "X_test, y_test = convertx(test), converty(test)"
      ],
      "metadata": {
        "id": "JEzxpmzebjAs"
      },
      "execution_count": 9,
      "outputs": []
    },
    {
      "cell_type": "code",
      "source": [
        "X_train"
      ],
      "metadata": {
        "colab": {
          "base_uri": "https://localhost:8080/"
        },
        "id": "TorEpWaJvnuD",
        "outputId": "188741e2-88b9-431d-dc27-92c3c13cc4af"
      },
      "execution_count": 10,
      "outputs": [
        {
          "output_type": "execute_result",
          "data": {
            "text/plain": [
              "array([[    23,      2, 164231, ...,      0,     35,     38],\n",
              "       [    17,      2, 132187, ...,      0,     15,     38],\n",
              "       [    23,      2, 163595, ...,      0,     40,     38],\n",
              "       ...,\n",
              "       [    31,      2, 150324, ...,      0,     40,     38],\n",
              "       [    47,      2, 181307, ...,  99999,     60,     38],\n",
              "       [    33,      2, 229716, ...,      0,     38,     38]], dtype=int32)"
            ]
          },
          "metadata": {},
          "execution_count": 10
        }
      ]
    },
    {
      "cell_type": "code",
      "source": [
        "y_train"
      ],
      "metadata": {
        "colab": {
          "base_uri": "https://localhost:8080/"
        },
        "id": "-J_vkXrgvUfI",
        "outputId": "7cc6f0a9-3163-47cc-cda2-dfd5fb69a889"
      },
      "execution_count": 11,
      "outputs": [
        {
          "output_type": "execute_result",
          "data": {
            "text/plain": [
              "array([False, False, False, ..., False,  True, False])"
            ]
          },
          "metadata": {},
          "execution_count": 11
        }
      ]
    },
    {
      "cell_type": "markdown",
      "source": [
        "# Naive Bayes for Mixed Typed Data"
      ],
      "metadata": {
        "id": "in6nJKCfylbA"
      }
    },
    {
      "cell_type": "code",
      "source": [
        "from sklearn.naive_bayes import GaussianNB, CategoricalNB\n",
        "\n",
        "# Calculate log probabilities\n",
        "def log_proba(X, p0):\n",
        "  myprior = [p0,1-p0]\n",
        "  gnb = GaussianNB(priors=myprior)  # continuous data\n",
        "  gnb.fit(np.take(X_train, ind_cont, axis=1), y_train)\n",
        "  clf = CategoricalNB(class_prior=myprior)  # categorical data\n",
        "  clf.fit(np.take(X_train, ind_cat, axis=1), y_train)\n",
        "  return gnb.predict_proba(np.take(X, ind_cont, axis=1)) + \\\n",
        "         clf.predict_proba(np.take(X, ind_cat, axis=1)) - \\\n",
        "         myprior\n",
        "\n",
        "# Predict a class\n",
        "def pred(logprob):\n",
        "  return logprob.argmax(axis=1)"
      ],
      "metadata": {
        "id": "o17xjq60BiHW"
      },
      "execution_count": 12,
      "outputs": []
    },
    {
      "cell_type": "code",
      "source": [
        "import timeit\n",
        "\n",
        "df_eval = pd.DataFrame(columns = ['p0', 'accuracy', 'rtime'])\n",
        "num_step = 50\n",
        "\n",
        "for i in range(1, num_step):\n",
        "  p0 = i/num_step\n",
        "  start = timeit.default_timer()\n",
        "  y_pred = pred(log_proba(X_test, p0))\n",
        "  rtime = (timeit.default_timer()-start)*1000  # running time (ms)\n",
        "  acc = (y_test == y_pred).sum()/X_test.shape[0]*100\n",
        "  df_eval.loc[i-1] = np.float32([p0, acc, rtime])\n",
        "  #print(\"p0 = {} \\t Accuracy = {:.2f} \\t Running time = {:.2f}\".format(p0, acc, rtime))"
      ],
      "metadata": {
        "id": "FWR4nW9uDvwb"
      },
      "execution_count": 13,
      "outputs": []
    },
    {
      "cell_type": "code",
      "source": [
        "df_eval.head()"
      ],
      "metadata": {
        "colab": {
          "base_uri": "https://localhost:8080/",
          "height": 206
        },
        "id": "FnTAhHP3E1da",
        "outputId": "0f70e688-a042-4812-ca9a-8fdeb00e5d3f"
      },
      "execution_count": 14,
      "outputs": [
        {
          "output_type": "execute_result",
          "data": {
            "text/plain": [
              "     p0   accuracy      rtime\n",
              "0  0.02  66.339310  35.909679\n",
              "1  0.04  74.011787  30.286549\n",
              "2  0.06  77.436775  29.578440\n",
              "3  0.08  79.106308  29.127287\n",
              "4  0.10  80.346184  28.870115"
            ],
            "text/html": [
              "\n",
              "  <div id=\"df-266efe9a-6e1d-4c61-bb3d-1054a74f64af\">\n",
              "    <div class=\"colab-df-container\">\n",
              "      <div>\n",
              "<style scoped>\n",
              "    .dataframe tbody tr th:only-of-type {\n",
              "        vertical-align: middle;\n",
              "    }\n",
              "\n",
              "    .dataframe tbody tr th {\n",
              "        vertical-align: top;\n",
              "    }\n",
              "\n",
              "    .dataframe thead th {\n",
              "        text-align: right;\n",
              "    }\n",
              "</style>\n",
              "<table border=\"1\" class=\"dataframe\">\n",
              "  <thead>\n",
              "    <tr style=\"text-align: right;\">\n",
              "      <th></th>\n",
              "      <th>p0</th>\n",
              "      <th>accuracy</th>\n",
              "      <th>rtime</th>\n",
              "    </tr>\n",
              "  </thead>\n",
              "  <tbody>\n",
              "    <tr>\n",
              "      <th>0</th>\n",
              "      <td>0.02</td>\n",
              "      <td>66.339310</td>\n",
              "      <td>35.909679</td>\n",
              "    </tr>\n",
              "    <tr>\n",
              "      <th>1</th>\n",
              "      <td>0.04</td>\n",
              "      <td>74.011787</td>\n",
              "      <td>30.286549</td>\n",
              "    </tr>\n",
              "    <tr>\n",
              "      <th>2</th>\n",
              "      <td>0.06</td>\n",
              "      <td>77.436775</td>\n",
              "      <td>29.578440</td>\n",
              "    </tr>\n",
              "    <tr>\n",
              "      <th>3</th>\n",
              "      <td>0.08</td>\n",
              "      <td>79.106308</td>\n",
              "      <td>29.127287</td>\n",
              "    </tr>\n",
              "    <tr>\n",
              "      <th>4</th>\n",
              "      <td>0.10</td>\n",
              "      <td>80.346184</td>\n",
              "      <td>28.870115</td>\n",
              "    </tr>\n",
              "  </tbody>\n",
              "</table>\n",
              "</div>\n",
              "      <button class=\"colab-df-convert\" onclick=\"convertToInteractive('df-266efe9a-6e1d-4c61-bb3d-1054a74f64af')\"\n",
              "              title=\"Convert this dataframe to an interactive table.\"\n",
              "              style=\"display:none;\">\n",
              "        \n",
              "  <svg xmlns=\"http://www.w3.org/2000/svg\" height=\"24px\"viewBox=\"0 0 24 24\"\n",
              "       width=\"24px\">\n",
              "    <path d=\"M0 0h24v24H0V0z\" fill=\"none\"/>\n",
              "    <path d=\"M18.56 5.44l.94 2.06.94-2.06 2.06-.94-2.06-.94-.94-2.06-.94 2.06-2.06.94zm-11 1L8.5 8.5l.94-2.06 2.06-.94-2.06-.94L8.5 2.5l-.94 2.06-2.06.94zm10 10l.94 2.06.94-2.06 2.06-.94-2.06-.94-.94-2.06-.94 2.06-2.06.94z\"/><path d=\"M17.41 7.96l-1.37-1.37c-.4-.4-.92-.59-1.43-.59-.52 0-1.04.2-1.43.59L10.3 9.45l-7.72 7.72c-.78.78-.78 2.05 0 2.83L4 21.41c.39.39.9.59 1.41.59.51 0 1.02-.2 1.41-.59l7.78-7.78 2.81-2.81c.8-.78.8-2.07 0-2.86zM5.41 20L4 18.59l7.72-7.72 1.47 1.35L5.41 20z\"/>\n",
              "  </svg>\n",
              "      </button>\n",
              "      \n",
              "  <style>\n",
              "    .colab-df-container {\n",
              "      display:flex;\n",
              "      flex-wrap:wrap;\n",
              "      gap: 12px;\n",
              "    }\n",
              "\n",
              "    .colab-df-convert {\n",
              "      background-color: #E8F0FE;\n",
              "      border: none;\n",
              "      border-radius: 50%;\n",
              "      cursor: pointer;\n",
              "      display: none;\n",
              "      fill: #1967D2;\n",
              "      height: 32px;\n",
              "      padding: 0 0 0 0;\n",
              "      width: 32px;\n",
              "    }\n",
              "\n",
              "    .colab-df-convert:hover {\n",
              "      background-color: #E2EBFA;\n",
              "      box-shadow: 0px 1px 2px rgba(60, 64, 67, 0.3), 0px 1px 3px 1px rgba(60, 64, 67, 0.15);\n",
              "      fill: #174EA6;\n",
              "    }\n",
              "\n",
              "    [theme=dark] .colab-df-convert {\n",
              "      background-color: #3B4455;\n",
              "      fill: #D2E3FC;\n",
              "    }\n",
              "\n",
              "    [theme=dark] .colab-df-convert:hover {\n",
              "      background-color: #434B5C;\n",
              "      box-shadow: 0px 1px 3px 1px rgba(0, 0, 0, 0.15);\n",
              "      filter: drop-shadow(0px 1px 2px rgba(0, 0, 0, 0.3));\n",
              "      fill: #FFFFFF;\n",
              "    }\n",
              "  </style>\n",
              "\n",
              "      <script>\n",
              "        const buttonEl =\n",
              "          document.querySelector('#df-266efe9a-6e1d-4c61-bb3d-1054a74f64af button.colab-df-convert');\n",
              "        buttonEl.style.display =\n",
              "          google.colab.kernel.accessAllowed ? 'block' : 'none';\n",
              "\n",
              "        async function convertToInteractive(key) {\n",
              "          const element = document.querySelector('#df-266efe9a-6e1d-4c61-bb3d-1054a74f64af');\n",
              "          const dataTable =\n",
              "            await google.colab.kernel.invokeFunction('convertToInteractive',\n",
              "                                                     [key], {});\n",
              "          if (!dataTable) return;\n",
              "\n",
              "          const docLinkHtml = 'Like what you see? Visit the ' +\n",
              "            '<a target=\"_blank\" href=https://colab.research.google.com/notebooks/data_table.ipynb>data table notebook</a>'\n",
              "            + ' to learn more about interactive tables.';\n",
              "          element.innerHTML = '';\n",
              "          dataTable['output_type'] = 'display_data';\n",
              "          await google.colab.output.renderOutput(dataTable, element);\n",
              "          const docLink = document.createElement('div');\n",
              "          docLink.innerHTML = docLinkHtml;\n",
              "          element.appendChild(docLink);\n",
              "        }\n",
              "      </script>\n",
              "    </div>\n",
              "  </div>\n",
              "  "
            ]
          },
          "metadata": {},
          "execution_count": 14
        }
      ]
    },
    {
      "cell_type": "code",
      "source": [
        "df_eval.to_csv('sample_data/eval_bayes.csv', index=False)"
      ],
      "metadata": {
        "id": "CQLc4YnPN3Sf"
      },
      "execution_count": 15,
      "outputs": []
    },
    {
      "cell_type": "code",
      "source": [
        "df_eval.iloc[df_eval.accuracy.argmax(),:] # maximum accuracy"
      ],
      "metadata": {
        "colab": {
          "base_uri": "https://localhost:8080/"
        },
        "id": "CEzJQSJzKH4B",
        "outputId": "2472c267-76de-4ff2-9cd0-259de72af802"
      },
      "execution_count": 16,
      "outputs": [
        {
          "output_type": "execute_result",
          "data": {
            "text/plain": [
              "p0           0.480000\n",
              "accuracy    83.562485\n",
              "rtime       29.409271\n",
              "Name: 23, dtype: float32"
            ]
          },
          "metadata": {},
          "execution_count": 16
        }
      ]
    },
    {
      "cell_type": "code",
      "source": [
        "df_eval.iloc[df_eval.rtime.argmin(),:]  # minimum running time"
      ],
      "metadata": {
        "colab": {
          "base_uri": "https://localhost:8080/"
        },
        "id": "bpGIk6xFKMbN",
        "outputId": "5f6be0bd-7aa4-4309-ed51-a5c97c1e7845"
      },
      "execution_count": 17,
      "outputs": [
        {
          "output_type": "execute_result",
          "data": {
            "text/plain": [
              "p0           0.420000\n",
              "accuracy    82.887306\n",
              "rtime       28.350065\n",
              "Name: 20, dtype: float32"
            ]
          },
          "metadata": {},
          "execution_count": 17
        }
      ]
    }
  ]
}